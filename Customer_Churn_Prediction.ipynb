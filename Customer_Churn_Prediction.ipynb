{
  "nbformat": 4,
  "nbformat_minor": 0,
  "metadata": {
    "colab": {
      "provenance": [],
      "include_colab_link": true
    },
    "kernelspec": {
      "name": "python3",
      "display_name": "Python 3"
    },
    "language_info": {
      "name": "python"
    }
  },
  "cells": [
    {
      "cell_type": "markdown",
      "metadata": {
        "id": "view-in-github",
        "colab_type": "text"
      },
      "source": [
        "<a href=\"https://colab.research.google.com/github/Pranali-25/Codsoft-ML-Internship/blob/main/Customer_Churn_Prediction.ipynb\" target=\"_parent\"><img src=\"https://colab.research.google.com/assets/colab-badge.svg\" alt=\"Open In Colab\"/></a>"
      ]
    },
    {
      "cell_type": "markdown",
      "source": [
        "## ***Customer Churn Prediction***"
      ],
      "metadata": {
        "id": "qfm11rMG44d3"
      }
    },
    {
      "cell_type": "code",
      "source": [
        "import pandas as pd\n",
        "from sklearn.model_selection import train_test_split\n",
        "from sklearn.preprocessing import StandardScaler\n",
        "from sklearn.linear_model import LogisticRegression\n",
        "from sklearn.ensemble import RandomForestClassifier, GradientBoostingClassifier\n",
        "from sklearn.metrics import classification_report, accuracy_score, confusion_matrix\n",
        "\n",
        "#  Load Dataset\n",
        "data = pd.read_csv(\"/content/Churn_Modelling.csv\")\n",
        "print(\"Dataset Shape:\", data.shape)\n",
        "print(data.head())\n",
        "\n",
        "# Preprocessing\n",
        "X = data.drop(\"Exited\", axis=1)\n",
        "y = data[\"Exited\"]\n",
        "X = pd.get_dummies(X, drop_first=True)\n",
        "X_train, X_test, y_train, y_test = train_test_split(X, y, test_size=0.2, random_state=42)\n",
        "scaler = StandardScaler()\n",
        "X_train = scaler.fit_transform(X_train)\n",
        "X_test = scaler.transform(X_test)\n",
        "\n",
        "# Train Models\n",
        "def train_and_evaluate(model, model_name):\n",
        "    print(f\"\\n----- {model_name} -----\")\n",
        "    model.fit(X_train, y_train)\n",
        "    y_pred = model.predict(X_test)\n",
        "    print(\"Accuracy:\", accuracy_score(y_test, y_pred))\n",
        "    print(\"Confusion Matrix:\\n\", confusion_matrix(y_test, y_pred))\n",
        "    print(\"Classification Report:\\n\", classification_report(y_test, y_pred))\n",
        "\n",
        "# Logistic Regression\n",
        "train_and_evaluate(LogisticRegression(max_iter=2000), \"Logistic Regression\")\n",
        "\n",
        "# Random Forest\n",
        "train_and_evaluate(RandomForestClassifier(n_estimators=200, random_state=42), \"Random Forest\")\n",
        "\n",
        "# Gradient Boosting\n",
        "train_and_evaluate(GradientBoostingClassifier(n_estimators=200, random_state=42), \"Gradient Boosting\")"
      ],
      "metadata": {
        "colab": {
          "base_uri": "https://localhost:8080/"
        },
        "id": "JneoMCWf5NaP",
        "outputId": "cad0aab6-f34e-42c8-8bc1-f58a733df82e"
      },
      "execution_count": null,
      "outputs": [
        {
          "output_type": "stream",
          "name": "stdout",
          "text": [
            "Dataset Shape: (10000, 14)\n",
            "   RowNumber  CustomerId   Surname  CreditScore Geography  Gender  Age  \\\n",
            "0          1    15634602  Hargrave          619    France  Female   42   \n",
            "1          2    15647311      Hill          608     Spain  Female   41   \n",
            "2          3    15619304      Onio          502    France  Female   42   \n",
            "3          4    15701354      Boni          699    France  Female   39   \n",
            "4          5    15737888  Mitchell          850     Spain  Female   43   \n",
            "\n",
            "   Tenure    Balance  NumOfProducts  HasCrCard  IsActiveMember  \\\n",
            "0       2       0.00              1          1               1   \n",
            "1       1   83807.86              1          0               1   \n",
            "2       8  159660.80              3          1               0   \n",
            "3       1       0.00              2          0               0   \n",
            "4       2  125510.82              1          1               1   \n",
            "\n",
            "   EstimatedSalary  Exited  \n",
            "0        101348.88       1  \n",
            "1        112542.58       0  \n",
            "2        113931.57       1  \n",
            "3         93826.63       0  \n",
            "4         79084.10       0  \n",
            "\n",
            "----- Logistic Regression -----\n",
            "Accuracy: 0.781\n",
            "Confusion Matrix:\n",
            " [[1476  131]\n",
            " [ 307   86]]\n",
            "Classification Report:\n",
            "               precision    recall  f1-score   support\n",
            "\n",
            "           0       0.83      0.92      0.87      1607\n",
            "           1       0.40      0.22      0.28       393\n",
            "\n",
            "    accuracy                           0.78      2000\n",
            "   macro avg       0.61      0.57      0.58      2000\n",
            "weighted avg       0.74      0.78      0.76      2000\n",
            "\n",
            "\n",
            "----- Random Forest -----\n",
            "Accuracy: 0.857\n",
            "Confusion Matrix:\n",
            " [[1580   27]\n",
            " [ 259  134]]\n",
            "Classification Report:\n",
            "               precision    recall  f1-score   support\n",
            "\n",
            "           0       0.86      0.98      0.92      1607\n",
            "           1       0.83      0.34      0.48       393\n",
            "\n",
            "    accuracy                           0.86      2000\n",
            "   macro avg       0.85      0.66      0.70      2000\n",
            "weighted avg       0.85      0.86      0.83      2000\n",
            "\n",
            "\n",
            "----- Gradient Boosting -----\n",
            "Accuracy: 0.861\n",
            "Confusion Matrix:\n",
            " [[1539   68]\n",
            " [ 210  183]]\n",
            "Classification Report:\n",
            "               precision    recall  f1-score   support\n",
            "\n",
            "           0       0.88      0.96      0.92      1607\n",
            "           1       0.73      0.47      0.57       393\n",
            "\n",
            "    accuracy                           0.86      2000\n",
            "   macro avg       0.80      0.71      0.74      2000\n",
            "weighted avg       0.85      0.86      0.85      2000\n",
            "\n"
          ]
        }
      ]
    }
  ]
}